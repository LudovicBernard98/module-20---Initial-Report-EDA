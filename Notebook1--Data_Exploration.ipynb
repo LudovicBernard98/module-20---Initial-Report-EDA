{
 "cells": [
  {
   "cell_type": "markdown",
   "id": "eec8403c",
   "metadata": {},
   "source": [
    "# Predictors of Startup Success "
   ]
  },
  {
   "cell_type": "markdown",
   "id": "8725619f",
   "metadata": {},
   "source": [
    "### Introduction"
   ]
  },
  {
   "cell_type": "markdown",
   "id": "f68b423b",
   "metadata": {},
   "source": [
    "A Startup is a new company (qualified when still at a project phase) which seeks to develop an innovation capable of disrupting sectors. While entrepreneurship refers to all new businesses, including self-employment and businesses that never intend to become registered, startups refer to new businesses that intend to grow and validate a scalable economic model.  \n",
    "\n",
    "Startups play a major role in the economic growth of many countries. They bring new ideas, spur innovation, create new technologies and are an important source of employment. Over the past two decades, the startup sector has grown exponantially in number of new companies and in the volume of capital seeking to participate as investments.\n",
    "\n",
    "Due to their high risks, startups face high uncertainty and a minority of them go on to be successful and influential. Their inherent risk and requirement for large amounts of capital make successful investment hard to come by. In fact, on average Venture Capital Funds (the main investors in startups) have a successful (IPO) investment rate of 1 out of 32. After adventuring myself in the field, it is clear that investors have limited tools to objectively identify the qualities of a successful startup and their potential to attain \"success\".  \n",
    "\n",
    "\n",
    "Before we continue, it is important to define \"what is a successfull startup?\". Often we have in mind sotries of \"IPO unicorns\" like Facebook or Amazon, but in fact startup success could be generalized the realization of an \"Exit\". These events can be intiated by an acquisition (M&A) or an IPO (Initial Public Offering)"
   ]
  },
  {
   "cell_type": "markdown",
   "id": "fe1b50d4",
   "metadata": {},
   "source": [
    "### Project Overview"
   ]
  },
  {
   "cell_type": "markdown",
   "id": "9492c256",
   "metadata": {},
   "source": [
    "Startup companiies are recently emerging and evolving more than ever. But still, many of them fail, in fact, 9 out of 10 startups fail. So, what are the characteristics of startups which succeed? There are many factors that might play a role in this question: founders and team experience, fundings, location, product, market and so on. Why some startups are acquired very early and others are not? Are ther maybe some factors that attract bigger companies into some startup acquisition? This report aims to investigate these questions using the [Startup Success Prediction](https://www.kaggle.com/datasets/manishkc06/startup-success-prediction) dataset available on Kaggle.  "
   ]
  },
  {
   "cell_type": "markdown",
   "id": "0fb80a4f",
   "metadata": {},
   "source": [
    "### Problem Statement"
   ]
  },
  {
   "cell_type": "markdown",
   "id": "604ee656",
   "metadata": {},
   "source": [
    "The startup world requires a lot of decision making from the people involved, specially when dealing with situations of funding or acquisitions that will result in ownership changes. In these situations, the decision maker should have on hand all the information that can be provided with the amount of data available otday about companies, funding rounds and acquisitions.  \n",
    "\n",
    "This project proposes a serie of supervised learning models that can forecast a startup success as well as a better understanding of the variables that most impact the acquisition or failure of a startup company. **Different supervised algorithms will be tested in order to compare our results and better understand the variables that most impact the outcome.**"
   ]
  },
  {
   "cell_type": "markdown",
   "id": "852ede60",
   "metadata": {},
   "source": [
    "### Performance Metrics"
   ]
  },
  {
   "cell_type": "markdown",
   "id": "70c09b8f",
   "metadata": {},
   "source": [
    "To evaluate the validity of each model we will use the True Positive Rate, False Positive Rate and the Area under the ROC Curve (AUC_ROC). True Positive rate and False Positive rates will derived from the confusion matrix of our classifiers. Since we expect the dataset to be imbalanced such metric wil be much more useful than accuracy. We expect the number of companies that are acquired will be much smaller than those in operation or closed. If we were to use accuracy, our models would probably have a high score even though their will be performing poorly of retrieving the few companies that are more likely to be acquired.  \n",
    "\n",
    "The ROC curve combines TPR(y-axis) and FPR (x-axis). In general, the AUC is a good metric for binary classification problems."
   ]
  },
  {
   "cell_type": "markdown",
   "id": "39cee3c8",
   "metadata": {},
   "source": [
    "# 1. Dataset Preparation"
   ]
  },
  {
   "cell_type": "markdown",
   "id": "2e5750d7",
   "metadata": {},
   "source": [
    "### Overview  \n",
    "In this phase, we will import the startup dataset from the [Kaggle Dataset](https://www.kaggle.com/datasets/manishkc06/startup-success-prediction?resource=download). In addition,we will explore and prepare the dataset for further feature analysis.  \n",
    "\n",
    "During the exploratory phase of this notebook, we will use graphics to explore and get a deeper understanding of the features at hand. Our investigation will focus on feature correlation, distribution, and null values.  \n",
    "\n",
    "Once our exploration completed, we will seek to implement strategies to address our observations. Such strategies could be feature engineering, data imputation, labe encoding and others."
   ]
  },
  {
   "cell_type": "markdown",
   "id": "6ee67ba6",
   "metadata": {},
   "source": [
    "## 1.1 Load available data from the CSV file"
   ]
  },
  {
   "cell_type": "code",
   "execution_count": 1,
   "id": "72a53159",
   "metadata": {},
   "outputs": [],
   "source": [
    "#All imports for this notebook are here\n",
    "import numpy as np\n",
    "import pandas as pd\n",
    "import matplotlib.pyplot as plt\n",
    "from sklearn import preprocessing\n",
    "from datetime import datetime\n",
    "from dateutil import relativedelta\n",
    "\n",
    "%matplotlib inline"
   ]
  },
  {
   "cell_type": "code",
   "execution_count": 3,
   "id": "26a23e71",
   "metadata": {},
   "outputs": [],
   "source": [
    "#Start by importing our csv file into a dataframe\n",
    "df = pd.read_csv('data/startup data.csv')"
   ]
  },
  {
   "cell_type": "code",
   "execution_count": 4,
   "id": "9abe9380",
   "metadata": {},
   "outputs": [
    {
     "data": {
      "text/html": [
       "<div>\n",
       "<style scoped>\n",
       "    .dataframe tbody tr th:only-of-type {\n",
       "        vertical-align: middle;\n",
       "    }\n",
       "\n",
       "    .dataframe tbody tr th {\n",
       "        vertical-align: top;\n",
       "    }\n",
       "\n",
       "    .dataframe thead th {\n",
       "        text-align: right;\n",
       "    }\n",
       "</style>\n",
       "<table border=\"1\" class=\"dataframe\">\n",
       "  <thead>\n",
       "    <tr style=\"text-align: right;\">\n",
       "      <th></th>\n",
       "      <th>Unnamed: 0</th>\n",
       "      <th>state_code</th>\n",
       "      <th>latitude</th>\n",
       "      <th>longitude</th>\n",
       "      <th>zip_code</th>\n",
       "      <th>id</th>\n",
       "      <th>city</th>\n",
       "      <th>Unnamed: 6</th>\n",
       "      <th>name</th>\n",
       "      <th>labels</th>\n",
       "      <th>...</th>\n",
       "      <th>object_id</th>\n",
       "      <th>has_VC</th>\n",
       "      <th>has_angel</th>\n",
       "      <th>has_roundA</th>\n",
       "      <th>has_roundB</th>\n",
       "      <th>has_roundC</th>\n",
       "      <th>has_roundD</th>\n",
       "      <th>avg_participants</th>\n",
       "      <th>is_top500</th>\n",
       "      <th>status</th>\n",
       "    </tr>\n",
       "  </thead>\n",
       "  <tbody>\n",
       "    <tr>\n",
       "      <th>0</th>\n",
       "      <td>1005</td>\n",
       "      <td>CA</td>\n",
       "      <td>42.358880</td>\n",
       "      <td>-71.056820</td>\n",
       "      <td>92101</td>\n",
       "      <td>c:6669</td>\n",
       "      <td>San Diego</td>\n",
       "      <td>NaN</td>\n",
       "      <td>Bandsintown</td>\n",
       "      <td>1</td>\n",
       "      <td>...</td>\n",
       "      <td>c:6669</td>\n",
       "      <td>0</td>\n",
       "      <td>1</td>\n",
       "      <td>0</td>\n",
       "      <td>0</td>\n",
       "      <td>0</td>\n",
       "      <td>0</td>\n",
       "      <td>1.0000</td>\n",
       "      <td>0</td>\n",
       "      <td>acquired</td>\n",
       "    </tr>\n",
       "    <tr>\n",
       "      <th>1</th>\n",
       "      <td>204</td>\n",
       "      <td>CA</td>\n",
       "      <td>37.238916</td>\n",
       "      <td>-121.973718</td>\n",
       "      <td>95032</td>\n",
       "      <td>c:16283</td>\n",
       "      <td>Los Gatos</td>\n",
       "      <td>NaN</td>\n",
       "      <td>TriCipher</td>\n",
       "      <td>1</td>\n",
       "      <td>...</td>\n",
       "      <td>c:16283</td>\n",
       "      <td>1</td>\n",
       "      <td>0</td>\n",
       "      <td>0</td>\n",
       "      <td>1</td>\n",
       "      <td>1</td>\n",
       "      <td>1</td>\n",
       "      <td>4.7500</td>\n",
       "      <td>1</td>\n",
       "      <td>acquired</td>\n",
       "    </tr>\n",
       "    <tr>\n",
       "      <th>2</th>\n",
       "      <td>1001</td>\n",
       "      <td>CA</td>\n",
       "      <td>32.901049</td>\n",
       "      <td>-117.192656</td>\n",
       "      <td>92121</td>\n",
       "      <td>c:65620</td>\n",
       "      <td>San Diego</td>\n",
       "      <td>San Diego CA 92121</td>\n",
       "      <td>Plixi</td>\n",
       "      <td>1</td>\n",
       "      <td>...</td>\n",
       "      <td>c:65620</td>\n",
       "      <td>0</td>\n",
       "      <td>0</td>\n",
       "      <td>1</td>\n",
       "      <td>0</td>\n",
       "      <td>0</td>\n",
       "      <td>0</td>\n",
       "      <td>4.0000</td>\n",
       "      <td>1</td>\n",
       "      <td>acquired</td>\n",
       "    </tr>\n",
       "    <tr>\n",
       "      <th>3</th>\n",
       "      <td>738</td>\n",
       "      <td>CA</td>\n",
       "      <td>37.320309</td>\n",
       "      <td>-122.050040</td>\n",
       "      <td>95014</td>\n",
       "      <td>c:42668</td>\n",
       "      <td>Cupertino</td>\n",
       "      <td>Cupertino CA 95014</td>\n",
       "      <td>Solidcore Systems</td>\n",
       "      <td>1</td>\n",
       "      <td>...</td>\n",
       "      <td>c:42668</td>\n",
       "      <td>0</td>\n",
       "      <td>0</td>\n",
       "      <td>0</td>\n",
       "      <td>1</td>\n",
       "      <td>1</td>\n",
       "      <td>1</td>\n",
       "      <td>3.3333</td>\n",
       "      <td>1</td>\n",
       "      <td>acquired</td>\n",
       "    </tr>\n",
       "    <tr>\n",
       "      <th>4</th>\n",
       "      <td>1002</td>\n",
       "      <td>CA</td>\n",
       "      <td>37.779281</td>\n",
       "      <td>-122.419236</td>\n",
       "      <td>94105</td>\n",
       "      <td>c:65806</td>\n",
       "      <td>San Francisco</td>\n",
       "      <td>San Francisco CA 94105</td>\n",
       "      <td>Inhale Digital</td>\n",
       "      <td>0</td>\n",
       "      <td>...</td>\n",
       "      <td>c:65806</td>\n",
       "      <td>1</td>\n",
       "      <td>1</td>\n",
       "      <td>0</td>\n",
       "      <td>0</td>\n",
       "      <td>0</td>\n",
       "      <td>0</td>\n",
       "      <td>1.0000</td>\n",
       "      <td>1</td>\n",
       "      <td>closed</td>\n",
       "    </tr>\n",
       "  </tbody>\n",
       "</table>\n",
       "<p>5 rows × 49 columns</p>\n",
       "</div>"
      ],
      "text/plain": [
       "   Unnamed: 0 state_code   latitude   longitude zip_code       id  \\\n",
       "0        1005         CA  42.358880  -71.056820    92101   c:6669   \n",
       "1         204         CA  37.238916 -121.973718    95032  c:16283   \n",
       "2        1001         CA  32.901049 -117.192656    92121  c:65620   \n",
       "3         738         CA  37.320309 -122.050040    95014  c:42668   \n",
       "4        1002         CA  37.779281 -122.419236    94105  c:65806   \n",
       "\n",
       "            city              Unnamed: 6               name  labels  ...  \\\n",
       "0      San Diego                     NaN        Bandsintown       1  ...   \n",
       "1      Los Gatos                     NaN          TriCipher       1  ...   \n",
       "2      San Diego      San Diego CA 92121              Plixi       1  ...   \n",
       "3      Cupertino      Cupertino CA 95014  Solidcore Systems       1  ...   \n",
       "4  San Francisco  San Francisco CA 94105     Inhale Digital       0  ...   \n",
       "\n",
       "  object_id has_VC has_angel has_roundA  has_roundB  has_roundC  has_roundD  \\\n",
       "0    c:6669      0         1          0           0           0           0   \n",
       "1   c:16283      1         0          0           1           1           1   \n",
       "2   c:65620      0         0          1           0           0           0   \n",
       "3   c:42668      0         0          0           1           1           1   \n",
       "4   c:65806      1         1          0           0           0           0   \n",
       "\n",
       "   avg_participants  is_top500    status  \n",
       "0            1.0000          0  acquired  \n",
       "1            4.7500          1  acquired  \n",
       "2            4.0000          1  acquired  \n",
       "3            3.3333          1  acquired  \n",
       "4            1.0000          1    closed  \n",
       "\n",
       "[5 rows x 49 columns]"
      ]
     },
     "execution_count": 4,
     "metadata": {},
     "output_type": "execute_result"
    }
   ],
   "source": [
    "df.head()"
   ]
  },
  {
   "cell_type": "markdown",
   "id": "d1b15fa0",
   "metadata": {},
   "source": [
    "## 1.2 Dataset Description - Basic EDA"
   ]
  },
  {
   "cell_type": "markdown",
   "id": "b77d2236",
   "metadata": {},
   "source": [
    "The dataset supplied through Kaggle did not come with a description of the features. For this reason, it may be necessary to drop features with limited interpretability or understanding of its impact."
   ]
  },
  {
   "cell_type": "code",
   "execution_count": 6,
   "id": "ee0e2b4d",
   "metadata": {},
   "outputs": [
    {
     "name": "stdout",
     "output_type": "stream",
     "text": [
      "<class 'pandas.core.frame.DataFrame'>\n",
      "RangeIndex: 923 entries, 0 to 922\n",
      "Data columns (total 49 columns):\n",
      " #   Column                    Non-Null Count  Dtype  \n",
      "---  ------                    --------------  -----  \n",
      " 0   Unnamed: 0                923 non-null    int64  \n",
      " 1   state_code                923 non-null    object \n",
      " 2   latitude                  923 non-null    float64\n",
      " 3   longitude                 923 non-null    float64\n",
      " 4   zip_code                  923 non-null    object \n",
      " 5   id                        923 non-null    object \n",
      " 6   city                      923 non-null    object \n",
      " 7   Unnamed: 6                430 non-null    object \n",
      " 8   name                      923 non-null    object \n",
      " 9   labels                    923 non-null    int64  \n",
      " 10  founded_at                923 non-null    object \n",
      " 11  closed_at                 335 non-null    object \n",
      " 12  first_funding_at          923 non-null    object \n",
      " 13  last_funding_at           923 non-null    object \n",
      " 14  age_first_funding_year    923 non-null    float64\n",
      " 15  age_last_funding_year     923 non-null    float64\n",
      " 16  age_first_milestone_year  771 non-null    float64\n",
      " 17  age_last_milestone_year   771 non-null    float64\n",
      " 18  relationships             923 non-null    int64  \n",
      " 19  funding_rounds            923 non-null    int64  \n",
      " 20  funding_total_usd         923 non-null    int64  \n",
      " 21  milestones                923 non-null    int64  \n",
      " 22  state_code.1              922 non-null    object \n",
      " 23  is_CA                     923 non-null    int64  \n",
      " 24  is_NY                     923 non-null    int64  \n",
      " 25  is_MA                     923 non-null    int64  \n",
      " 26  is_TX                     923 non-null    int64  \n",
      " 27  is_otherstate             923 non-null    int64  \n",
      " 28  category_code             923 non-null    object \n",
      " 29  is_software               923 non-null    int64  \n",
      " 30  is_web                    923 non-null    int64  \n",
      " 31  is_mobile                 923 non-null    int64  \n",
      " 32  is_enterprise             923 non-null    int64  \n",
      " 33  is_advertising            923 non-null    int64  \n",
      " 34  is_gamesvideo             923 non-null    int64  \n",
      " 35  is_ecommerce              923 non-null    int64  \n",
      " 36  is_biotech                923 non-null    int64  \n",
      " 37  is_consulting             923 non-null    int64  \n",
      " 38  is_othercategory          923 non-null    int64  \n",
      " 39  object_id                 923 non-null    object \n",
      " 40  has_VC                    923 non-null    int64  \n",
      " 41  has_angel                 923 non-null    int64  \n",
      " 42  has_roundA                923 non-null    int64  \n",
      " 43  has_roundB                923 non-null    int64  \n",
      " 44  has_roundC                923 non-null    int64  \n",
      " 45  has_roundD                923 non-null    int64  \n",
      " 46  avg_participants          923 non-null    float64\n",
      " 47  is_top500                 923 non-null    int64  \n",
      " 48  status                    923 non-null    object \n",
      "dtypes: float64(7), int64(28), object(14)\n",
      "memory usage: 353.5+ KB\n"
     ]
    }
   ],
   "source": [
    "# We will start by getting a rudimentary understanding of the dataset and features\n",
    "df.info()"
   ]
  },
  {
   "cell_type": "code",
   "execution_count": 15,
   "id": "acac38fe",
   "metadata": {},
   "outputs": [
    {
     "data": {
      "text/plain": [
       "['state_code',\n",
       " 'zip_code',\n",
       " 'id',\n",
       " 'city',\n",
       " 'Unnamed: 6',\n",
       " 'name',\n",
       " 'founded_at',\n",
       " 'closed_at',\n",
       " 'first_funding_at',\n",
       " 'last_funding_at',\n",
       " 'state_code.1',\n",
       " 'category_code',\n",
       " 'object_id',\n",
       " 'status']"
      ]
     },
     "execution_count": 15,
     "metadata": {},
     "output_type": "execute_result"
    }
   ],
   "source": [
    "# Let's create a list of categorical feature\n",
    "list_categories = df.select_dtypes(\"object\").columns.tolist()\n",
    "list_categories"
   ]
  },
  {
   "cell_type": "code",
   "execution_count": 16,
   "id": "c18790a9",
   "metadata": {},
   "outputs": [
    {
     "name": "stdout",
     "output_type": "stream",
     "text": [
      "Unnamed: 0                    0\n",
      "state_code                    0\n",
      "latitude                      0\n",
      "longitude                     0\n",
      "zip_code                      0\n",
      "id                            0\n",
      "city                          0\n",
      "Unnamed: 6                  493\n",
      "name                          0\n",
      "labels                        0\n",
      "founded_at                    0\n",
      "closed_at                   588\n",
      "first_funding_at              0\n",
      "last_funding_at               0\n",
      "age_first_funding_year        0\n",
      "age_last_funding_year         0\n",
      "age_first_milestone_year    152\n",
      "age_last_milestone_year     152\n",
      "relationships                 0\n",
      "funding_rounds                0\n",
      "funding_total_usd             0\n",
      "milestones                    0\n",
      "state_code.1                  1\n",
      "is_CA                         0\n",
      "is_NY                         0\n",
      "is_MA                         0\n",
      "is_TX                         0\n",
      "is_otherstate                 0\n",
      "category_code                 0\n",
      "is_software                   0\n",
      "is_web                        0\n",
      "is_mobile                     0\n",
      "is_enterprise                 0\n",
      "is_advertising                0\n",
      "is_gamesvideo                 0\n",
      "is_ecommerce                  0\n",
      "is_biotech                    0\n",
      "is_consulting                 0\n",
      "is_othercategory              0\n",
      "object_id                     0\n",
      "has_VC                        0\n",
      "has_angel                     0\n",
      "has_roundA                    0\n",
      "has_roundB                    0\n",
      "has_roundC                    0\n",
      "has_roundD                    0\n",
      "avg_participants              0\n",
      "is_top500                     0\n",
      "status                        0\n",
      "dtype: int64\n"
     ]
    }
   ],
   "source": [
    "# Explore the columns with missing data\n",
    "print(df.isnull().sum())"
   ]
  },
  {
   "cell_type": "markdown",
   "id": "4d860ab7",
   "metadata": {},
   "source": [
    "### Summary of the EDA and Basic Description of the columns"
   ]
  },
  {
   "cell_type": "markdown",
   "id": "406de55e",
   "metadata": {},
   "source": [
    "The dataframe contains 923 observations and 49 features/column. Our last column \"Status\" is the target column which has no null values. Currently, the target feature contains \"closed\" as a failure or 0 and \"acquired\" as a success. Later, we will label incode the column to obtain a numerical values.  \n",
    "\n",
    "There are 14 categorical features and 35 numerical features. Of all the features, only 5 have missing values. The feature with the largest number of missing value is \"closed_at\" with over half of the data missing with 588. Next, the column \"unnamed_6\" is missing 493 datapoints. \"age_first_milestone_year\" & \"age_last_milestone_year\" are bith missing around 10% of the data with 152. Finally, the state_code.1 column is missing 1 entry.  \n",
    "\n",
    "The following column list is hard to understand the real world meaning of the underlying data:\n",
    "- \"Unnamed: 0\", \"Unnamed: 6\", \"avg_participants\", \"is_top500\"  \n",
    "\n",
    "In addition, the following features seem to be related:\n",
    "- \"state_code\", \"latitude\", \"longitude\", \"zip_code\", \"city\", \"state_code.1\", \"is_CA\", \"is_NY\", \"is_MA\", \"is_TX\", \"is_otherstate\"\n",
    "- \"category_code\", \"is_software\", \"is_web\", \"is_mobile\", \"is_enterprise\", \"is_advertising\", \"is_gamesvideo\", \"is_ecommerce\", \"is_biotech\", \"is_consulting\", \"is_othercategory\"\n",
    "- \"has_VC\", \"has_angel\", \"has_roundA\", \"has_roundB\", \"has_roundC\", \"has_roundD\""
   ]
  },
  {
   "cell_type": "markdown",
   "id": "9d762e55",
   "metadata": {},
   "source": [
    "## 1.3 Visual EDA"
   ]
  },
  {
   "cell_type": "code",
   "execution_count": null,
   "id": "25306d6b",
   "metadata": {},
   "outputs": [],
   "source": [
    "#Box plot, Bar Chart, Correlation Matrix"
   ]
  }
 ],
 "metadata": {
  "kernelspec": {
   "display_name": "Python 3 (ipykernel)",
   "language": "python",
   "name": "python3"
  },
  "language_info": {
   "codemirror_mode": {
    "name": "ipython",
    "version": 3
   },
   "file_extension": ".py",
   "mimetype": "text/x-python",
   "name": "python",
   "nbconvert_exporter": "python",
   "pygments_lexer": "ipython3",
   "version": "3.9.12"
  }
 },
 "nbformat": 4,
 "nbformat_minor": 5
}
